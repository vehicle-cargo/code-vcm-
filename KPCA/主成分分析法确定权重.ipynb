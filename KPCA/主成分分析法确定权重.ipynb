{
 "cells": [
  {
   "cell_type": "code",
   "execution_count": 1,
   "metadata": {},
   "outputs": [],
   "source": [
    "import pandas as pd\n",
    "import numpy as np"
   ]
  },
  {
   "cell_type": "code",
   "execution_count": 2,
   "metadata": {},
   "outputs": [
    {
     "name": "stdout",
     "output_type": "stream",
     "text": [
      "        0    1    2    3    4    5    6    7    8    9\n",
      "0     233  743  643  974  648  310  584  145  500  455\n",
      "1     249  569  300  281  217  853   65   78  809  324\n",
      "2     474  981   72   28   15  995  864   60   13  428\n",
      "3     551  873   58  170  128  723  134  154  731  634\n",
      "4     484  917  826  502    9  804  903   33  987   46\n",
      "...   ...  ...  ...  ...  ...  ...  ...  ...  ...  ...\n",
      "9995  761  747  130  804   40  267  563  299  255  232\n",
      "9996  711  517  667  302  803  267  820  600  557  274\n",
      "9997  526  578  124  409  827  973   83  305  351  554\n",
      "9998  312  191  220  799  482  224  861  179  437  440\n",
      "9999  580  939   18  489  756  491  629  791  746  559\n",
      "\n",
      "[10000 rows x 10 columns]\n"
     ]
    }
   ],
   "source": [
    "data = pd.DataFrame(np.random.randint(1,1000,size=(10000,10)))\n",
    "print(data)"
   ]
  },
  {
   "cell_type": "markdown",
   "metadata": {},
   "source": [
    "1.数据归一化"
   ]
  },
  {
   "cell_type": "code",
   "execution_count": 3,
   "metadata": {},
   "outputs": [
    {
     "name": "stdout",
     "output_type": "stream",
     "text": [
      "[[0.23246493 0.74348697 0.64328657 ... 0.14428858 0.5        0.45490982]\n",
      " [0.24849699 0.56913828 0.2995992  ... 0.07715431 0.80961924 0.32364729]\n",
      " [0.4739479  0.98196393 0.07114228 ... 0.05911824 0.01202405 0.42785571]\n",
      " ...\n",
      " [0.5260521  0.57815631 0.12324649 ... 0.30460922 0.3507014  0.55410822]\n",
      " [0.31162325 0.19038076 0.21943888 ... 0.17835671 0.43687375 0.43987976]\n",
      " [0.58016032 0.93987976 0.01703407 ... 0.79158317 0.74649299 0.55911824]]\n"
     ]
    }
   ],
   "source": [
    "from sklearn.preprocessing import MinMaxScaler\n",
    "mms = MinMaxScaler()\n",
    "data = mms.fit_transform(data)\n",
    "print(data)"
   ]
  },
  {
   "cell_type": "code",
   "execution_count": 4,
   "metadata": {},
   "outputs": [
    {
     "name": "stdout",
     "output_type": "stream",
     "text": [
      "(10, 10)\n",
      "(10,)\n",
      "(10,)\n"
     ]
    }
   ],
   "source": [
    "from sklearn.decomposition import PCA\n",
    "from sklearn import preprocessing\n",
    "pca = PCA()\n",
    "pca.fit(data)\n",
    "print(pca.components_.shape) #模型的各个特征向量 也叫成分矩阵\n",
    "print(pca.explained_variance_.shape) # 贡献方差，即特征根\n",
    "print(pca.explained_variance_ratio_.shape) #各个成分各自的方差百分比（贡献率）"
   ]
  },
  {
   "cell_type": "markdown",
   "metadata": {},
   "source": [
    "2.pca降维"
   ]
  },
  {
   "cell_type": "code",
   "execution_count": 5,
   "metadata": {},
   "outputs": [
    {
     "name": "stdout",
     "output_type": "stream",
     "text": [
      "(10000, 5)\n"
     ]
    }
   ],
   "source": [
    "pca = PCA(5)\n",
    "pca.fit(data)\n",
    "low_d = pca.transform(data)# low_d降维后的结果\n",
    "print(low_d.shape)"
   ]
  },
  {
   "cell_type": "markdown",
   "metadata": {},
   "source": [
    "3.确定权重"
   ]
  },
  {
   "cell_type": "code",
   "execution_count": 6,
   "metadata": {},
   "outputs": [
    {
     "name": "stdout",
     "output_type": "stream",
     "text": [
      "Weights [-47.290870518939826, 4.170320802647849, 14.194810978258129, 21.663813257858905, 12.287057351595157]\n"
     ]
    },
    {
     "name": "stderr",
     "output_type": "stream",
     "text": [
      "C:\\Users\\DELL\\AppData\\Local\\Temp\\ipykernel_11568\\1719314213.py:10: DeprecationWarning: `np.float` is a deprecated alias for the builtin `float`. To silence this warning, use `float` by itself. Doing this will not modify any behavior and is safe. If you specifically wanted the numpy scalar type, use `np.float64` here.\n",
      "Deprecated in NumPy 1.20; for more details and guidance: https://numpy.org/devdocs/release/1.20.0-notes.html#deprecations\n",
      "  Weights.append(np.float(Weights_coefficient))# 计算权重，将综合得分系数进行归一化处理即得到各指标权重值。\n"
     ]
    }
   ],
   "source": [
    "# 求指标在不同主成分线性组合中的系数\n",
    "k1_spss = pca.components_ / np.sqrt(pca.explained_variance_.reshape(-1, 1))  #计算线性组合系数矩阵，公式为：loading矩阵/Sqrt(特征根)，即载荷系数除以对应特征根的平方根。\n",
    "j = 0\n",
    "Weights = []\n",
    "for j in range(len(k1_spss)):\n",
    "    for i in range(len(pca.explained_variance_)):# 方差解释率\n",
    "        Weights_coefficient = np.sum(100 * (pca.explained_variance_ratio_[i]) * (k1_spss[i][j])) / np.sum(\n",
    "            pca.explained_variance_ratio_) # 计算综合得分系数，公式为：累积（线性组合系数*方差解释率）/累积方差解释率，即线性组合系数分别与方差解释率相乘后累加，并且除以累积方差解释率，即得到综合得分系数。\n",
    "    j = j + 1\n",
    "    Weights.append(np.float(Weights_coefficient))# 计算权重，将综合得分系数进行归一化处理即得到各指标权重值。\n",
    "print('Weights',Weights)\n"
   ]
  },
  {
   "cell_type": "markdown",
   "metadata": {},
   "source": [
    "4.权重归一化"
   ]
  },
  {
   "cell_type": "code",
   "execution_count": 7,
   "metadata": {},
   "outputs": [
    {
     "name": "stdout",
     "output_type": "stream",
     "text": [
      "Weights2 [[0.        ]\n",
      " [0.74630451]\n",
      " [0.89168245]\n",
      " [1.        ]\n",
      " [0.86401568]]\n"
     ]
    }
   ],
   "source": [
    "Weights=pd.DataFrame(Weights)\n",
    "Weights1 = preprocessing.MinMaxScaler().fit(Weights)\n",
    "Weights2 = Weights1.transform(Weights)\n",
    "print('Weights2',Weights2)"
   ]
  }
 ],
 "metadata": {
  "kernelspec": {
   "display_name": "Python 3",
   "language": "python",
   "name": "python3"
  },
  "language_info": {
   "codemirror_mode": {
    "name": "ipython",
    "version": 3
   },
   "file_extension": ".py",
   "mimetype": "text/x-python",
   "name": "python",
   "nbconvert_exporter": "python",
   "pygments_lexer": "ipython3",
   "version": "3.8.2"
  }
 },
 "nbformat": 4,
 "nbformat_minor": 4
}
